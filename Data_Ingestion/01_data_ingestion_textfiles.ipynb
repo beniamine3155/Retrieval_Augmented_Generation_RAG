{
 "cells": [
  {
   "cell_type": "markdown",
   "id": "d6a74275",
   "metadata": {},
   "source": [
    "## Introduction to Data Ingestion"
   ]
  },
  {
   "cell_type": "code",
   "execution_count": 1,
   "id": "a663f8ba",
   "metadata": {},
   "outputs": [],
   "source": [
    "import os\n",
    "from typing import List, Dict, Any\n",
    "import pandas as pd\n"
   ]
  },
  {
   "cell_type": "code",
   "execution_count": 2,
   "id": "b7ca9a07",
   "metadata": {},
   "outputs": [],
   "source": [
    "from langchain_core.documents import Document\n",
    "from langchain.text_splitter import (\n",
    "    CharacterTextSplitter,\n",
    "    TokenTextSplitter,\n",
    "    RecursiveCharacterTextSplitter\n",
    ")"
   ]
  },
  {
   "cell_type": "markdown",
   "id": "a4c02b5f",
   "metadata": {},
   "source": [
    "### Understand the document structure"
   ]
  },
  {
   "cell_type": "code",
   "execution_count": 3,
   "id": "2ec1305c",
   "metadata": {},
   "outputs": [
    {
     "name": "stdout",
     "output_type": "stream",
     "text": [
      "Document Structure:\n",
      "page_content='This is a sample document for testing purposes.' metadata={'source': 'sample.txt', 'page': 1, 'author': 'Beniamine Nahid', 'date': '2025-09-04', 'custom_field': 'any_value'}\n",
      "\n",
      "Document Content:\n",
      "This is a sample document for testing purposes.\n",
      "\n",
      "Document Metadata:\n",
      "{'source': 'sample.txt', 'page': 1, 'author': 'Beniamine Nahid', 'date': '2025-09-04', 'custom_field': 'any_value'}\n"
     ]
    }
   ],
   "source": [
    "# Create a sample document\n",
    "doc = Document(\n",
    "    page_content=\"This is a sample document for testing purposes.\",\n",
    "    metadata={\n",
    "        \"source\": \"sample.txt\",\n",
    "        \"page\":1,\n",
    "        \"author\": \"Beniamine Nahid\",\n",
    "        \"date\": \"2025-09-04\",\n",
    "        \"custom_field\": \"any_value\"\n",
    "\n",
    "    }\n",
    ")\n",
    "\n",
    "print(\"Document Structure:\")\n",
    "print(doc)\n",
    "print(\"\\nDocument Content:\")\n",
    "print(doc.page_content)\n",
    "print(\"\\nDocument Metadata:\")\n",
    "print(doc.metadata)"
   ]
  },
  {
   "cell_type": "markdown",
   "id": "246bceb7",
   "metadata": {},
   "source": [
    "### Text Files"
   ]
  },
  {
   "cell_type": "code",
   "execution_count": 1,
   "id": "297aa95c",
   "metadata": {},
   "outputs": [],
   "source": [
    "# create a sample text file \n",
    "import os\n",
    "os.makedirs(\"data/text_files\", exist_ok=True)"
   ]
  },
  {
   "cell_type": "code",
   "execution_count": 2,
   "id": "feefd434",
   "metadata": {},
   "outputs": [],
   "source": [
    "sample_texts={\n",
    "    \"data/text_files/python_intro.txt\":\"\"\"Python Programming Introduction\n",
    "\n",
    "Python is a high-level, interpreted programming language known for its simplicity and readability.\n",
    "Created by Guido van Rossum and first released in 1991, Python has become one of the most popular\n",
    "programming languages in the world.\n",
    "\n",
    "Key Features:\n",
    "- Easy to learn and use\n",
    "- Extensive standard library\n",
    "- Cross-platform compatibility\n",
    "- Strong community support\n",
    "\n",
    "Python is widely used in web development, data science, artificial intelligence, and automation.\"\"\",\n",
    "    \n",
    "    \"data/text_files/machine_learning.txt\": \"\"\"Machine Learning Basics\n",
    "\n",
    "Machine learning is a subset of artificial intelligence that enables systems to learn and improve\n",
    "from experience without being explicitly programmed. It focuses on developing computer programs\n",
    "that can access data and use it to learn for themselves.\n",
    "\n",
    "Types of Machine Learning:\n",
    "1. Supervised Learning: Learning with labeled data\n",
    "2. Unsupervised Learning: Finding patterns in unlabeled data\n",
    "3. Reinforcement Learning: Learning through rewards and penalties\n",
    "\n",
    "Applications include image recognition, speech processing, and recommendation systems\n",
    "    \n",
    "    \n",
    "    \"\"\"\n",
    "\n",
    "}\n",
    "\n"
   ]
  },
  {
   "cell_type": "code",
   "execution_count": 3,
   "id": "44ae7e3c",
   "metadata": {},
   "outputs": [
    {
     "name": "stdout",
     "output_type": "stream",
     "text": [
      "Sample text files created!\n"
     ]
    }
   ],
   "source": [
    "for filepath, content in sample_texts.items():\n",
    "    with open(filepath, \"w\", encoding=\"utf-8\") as f: # encodding utf-8 means it can handle all types of text files \n",
    "        f.write(content)\n",
    "print(\"Sample text files created!\")"
   ]
  },
  {
   "cell_type": "markdown",
   "id": "910e1539",
   "metadata": {},
   "source": [
    "### TextLoader"
   ]
  },
  {
   "cell_type": "code",
   "execution_count": 4,
   "id": "ce858c14",
   "metadata": {},
   "outputs": [
    {
     "name": "stdout",
     "output_type": "stream",
     "text": [
      "Number of documents loaded: 1\n",
      "Content preview: Python Programming Introduction\n",
      "\n",
      "Python is a high-level, interpreted programming language known for its simplicity and readability.\n",
      "Created by Guido van Rossum and first released in 1991, Python has b...\n",
      "Metadata: {'source': 'data/text_files/python_intro.txt'}\n"
     ]
    }
   ],
   "source": [
    "from langchain.document_loaders import TextLoader\n",
    "from langchain_community.document_loaders import TextLoader\n",
    "\n",
    "# Load a single text file\n",
    "loader = TextLoader(\"data/text_files/python_intro.txt\", encoding=\"utf-8\")\n",
    "\n",
    "documents = loader.load()\n",
    "\n",
    "print(f\"Number of documents loaded: {len(documents)}\")\n",
    "print(f\"Content preview: {documents[0].page_content[:200]}...\")\n",
    "print(f\"Metadata: {documents[0].metadata}\")"
   ]
  },
  {
   "cell_type": "markdown",
   "id": "b02cfbb2",
   "metadata": {},
   "source": [
    "### DirectoryLoader Multiple Text Files"
   ]
  },
  {
   "cell_type": "code",
   "execution_count": 7,
   "id": "38999872",
   "metadata": {},
   "outputs": [
    {
     "name": "stderr",
     "output_type": "stream",
     "text": [
      "100%|██████████| 2/2 [00:00<00:00, 368.81it/s]"
     ]
    },
    {
     "name": "stdout",
     "output_type": "stream",
     "text": [
      "\n",
      "Document 1:\n",
      "Content preview: Python Programming Introduction\n",
      "\n",
      "Python is a high-level, interpreted programming language known for its simplicity and readability.\n",
      "Created by Guido van Rossum and first released in 1991, Python has b...\n",
      "Metadata: {'source': 'data/text_files/python_intro.txt'}\n",
      "\n",
      "Document 2:\n",
      "Content preview: Machine Learning Basics\n",
      "\n",
      "Machine learning is a subset of artificial intelligence that enables systems to learn and improve\n",
      "from experience without being explicitly programmed. It focuses on developing...\n",
      "Metadata: {'source': 'data/text_files/machine_learning.txt'}\n"
     ]
    },
    {
     "name": "stderr",
     "output_type": "stream",
     "text": [
      "\n"
     ]
    }
   ],
   "source": [
    "from langchain_community.document_loaders import DirectoryLoader\n",
    "\n",
    "# Load multiple text files from a directory\n",
    "dir_loader = DirectoryLoader(\n",
    "    \"data/text_files\",\n",
    "    glob=\"**/*.txt\", # Load all .txt files in the directory and subdirectories\n",
    "    loader_cls=TextLoader,\n",
    "    loader_kwargs= {\"encoding\": \"utf-8\"},# Specify encoding to handle various text files\n",
    "    show_progress=True                            \n",
    ")\n",
    "\n",
    "documents = dir_loader.load()\n",
    "\n",
    "for i, doc in enumerate(documents):\n",
    "    print(f\"\\nDocument {i+1}:\")\n",
    "    print(f\"Content preview: {doc.page_content[:200]}...\")\n",
    "    print(f\"Metadata: {doc.metadata}\")"
   ]
  },
  {
   "cell_type": "code",
   "execution_count": 8,
   "id": "f05e9279",
   "metadata": {},
   "outputs": [
    {
     "name": "stdout",
     "output_type": "stream",
     "text": [
      "\n",
      "DirectoryLoader Characteristics:\n",
      "✅ Advantages:\n",
      "  - Loads multiple files at once\n",
      "  - Supports glob patterns\n",
      "  - Progress tracking\n",
      "  - Recursive directory scanning\n",
      "\n",
      "❌ Disadvantages:\n",
      "  - All files must be same type\n",
      "  - Limited error handling per file\n",
      "  - Can be memory intensive for large directories\n"
     ]
    }
   ],
   "source": [
    "# 📊 Analysis\n",
    "print(\"\\nDirectoryLoader Characteristics:\")\n",
    "print(\"✅ Advantages:\")\n",
    "print(\"  - Loads multiple files at once\")\n",
    "print(\"  - Supports glob patterns\")\n",
    "print(\"  - Progress tracking\")\n",
    "print(\"  - Recursive directory scanning\")\n",
    "\n",
    "print(\"\\n❌ Disadvantages:\")\n",
    "print(\"  - All files must be same type\")\n",
    "print(\"  - Limited error handling per file\")\n",
    "print(\"  - Can be memory intensive for large directories\")"
   ]
  },
  {
   "cell_type": "code",
   "execution_count": null,
   "id": "bd6b7ebe",
   "metadata": {},
   "outputs": [],
   "source": []
  }
 ],
 "metadata": {
  "kernelspec": {
   "display_name": "Retrieval_Augmented_Generation_RAG",
   "language": "python",
   "name": "python3"
  },
  "language_info": {
   "codemirror_mode": {
    "name": "ipython",
    "version": 3
   },
   "file_extension": ".py",
   "mimetype": "text/x-python",
   "name": "python",
   "nbconvert_exporter": "python",
   "pygments_lexer": "ipython3",
   "version": "3.13.5"
  }
 },
 "nbformat": 4,
 "nbformat_minor": 5
}
